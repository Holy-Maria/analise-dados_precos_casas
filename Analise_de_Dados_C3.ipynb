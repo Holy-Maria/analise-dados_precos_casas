{
 "cells": [
  {
   "cell_type": "code",
   "execution_count": null,
   "id": "029e9e5e",
   "metadata": {},
   "outputs": [],
   "source": [
    "\n",
    "import pandas as pd\n",
    "import numpy as np\n",
    "import matplotlib.pyplot as plt\n",
    "import seaborn as sns\n",
    "from sklearn.model_selection import train_test_split, cross_val_score\n",
    "from sklearn.preprocessing import StandardScaler, LabelEncoder\n",
    "from sklearn.linear_model import LinearRegression, LogisticRegression\n",
    "from sklearn.ensemble import RandomForestClassifier\n",
    "from sklearn.metrics import mean_squared_error, r2_score, accuracy_score, confusion_matrix, classification_report\n",
    "from sklearn.cluster import KMeans\n",
    "from sklearn.decomposition import PCA\n",
    "from sklearn.neighbors import LocalOutlierFactor\n"
   ]
  },
  {
   "cell_type": "markdown",
   "id": "3967502a",
   "metadata": {},
   "source": [
    "## Carregamento dos Dados"
   ]
  },
  {
   "cell_type": "code",
   "execution_count": null,
   "id": "a6fc3c2a",
   "metadata": {},
   "outputs": [],
   "source": [
    "\n",
    "data = pd.read_csv('train.csv')\n",
    "data.head()\n"
   ]
  },
  {
   "cell_type": "markdown",
   "id": "6ff24bae",
   "metadata": {},
   "source": [
    "## Análise Exploratória dos Dados (EDA)"
   ]
  },
  {
   "cell_type": "code",
   "execution_count": null,
   "id": "61224b5b",
   "metadata": {},
   "outputs": [],
   "source": [
    "\n",
    "print(data.info())\n",
    "print(data.describe())\n",
    "print(data.isnull().sum().sort_values(ascending=False).head(10))\n",
    "\n",
    "plt.figure(figsize=(12,8))\n",
    "sns.heatmap(data.corr(numeric_only=True), cmap='coolwarm', annot=False)\n",
    "plt.title('Mapa de Calor das Correlações')\n",
    "plt.show()\n",
    "\n",
    "sns.histplot(data['SalePrice'], kde=True)\n",
    "plt.title('Distribuição dos Preços de Venda')\n",
    "plt.show()\n"
   ]
  },
  {
   "cell_type": "markdown",
   "id": "6fb04514",
   "metadata": {},
   "source": [
    "## Feature Engineering"
   ]
  },
  {
   "cell_type": "code",
   "execution_count": null,
   "id": "917ed8dc",
   "metadata": {},
   "outputs": [],
   "source": [
    "\n",
    "corr = data.corr(numeric_only=True)['SalePrice'].abs().sort_values(ascending=False)\n",
    "top_features = corr[1:11].index.tolist()\n",
    "\n",
    "df = data[top_features + ['SalePrice']].copy()\n",
    "df = df.dropna()\n",
    "\n",
    "scaler = StandardScaler()\n",
    "X = scaler.fit_transform(df.drop('SalePrice', axis=1))\n",
    "y = df['SalePrice']\n"
   ]
  },
  {
   "cell_type": "markdown",
   "id": "00167376",
   "metadata": {},
   "source": [
    "## Modelagem Supervisionada - Regressão Linear"
   ]
  },
  {
   "cell_type": "code",
   "execution_count": null,
   "id": "76b0e38b",
   "metadata": {},
   "outputs": [],
   "source": [
    "\n",
    "X_train, X_test, y_train, y_test = train_test_split(X, y, test_size=0.2, random_state=42)\n",
    "\n",
    "lr = LinearRegression()\n",
    "lr.fit(X_train, y_train)\n",
    "\n",
    "y_pred = lr.predict(X_test)\n",
    "print(\"R2:\", r2_score(y_test, y_pred))\n",
    "print(\"RMSE:\", np.sqrt(mean_squared_error(y_test, y_pred)))\n"
   ]
  },
  {
   "cell_type": "markdown",
   "id": "78ebc7c4",
   "metadata": {},
   "source": [
    "## Modelagem Supervisionada - Classificação"
   ]
  },
  {
   "cell_type": "code",
   "execution_count": null,
   "id": "9901b75c",
   "metadata": {},
   "outputs": [],
   "source": [
    "\n",
    "threshold = y.median()\n",
    "y_class = ['Alto' if price >= threshold else 'Baixo' for price in y]\n",
    "\n",
    "X_train_c, X_test_c, y_train_c, y_test_c = train_test_split(X, y_class, test_size=0.2, random_state=42)\n",
    "\n",
    "clf = RandomForestClassifier(random_state=42)\n",
    "clf.fit(X_train_c, y_train_c)\n",
    "\n",
    "y_pred_c = clf.predict(X_test_c)\n",
    "print(\"Acurácia:\", accuracy_score(y_test_c, y_pred_c))\n",
    "print(confusion_matrix(y_test_c, y_pred_c))\n",
    "print(classification_report(y_test_c, y_pred_c))\n"
   ]
  },
  {
   "cell_type": "markdown",
   "id": "52a839cb",
   "metadata": {},
   "source": [
    "## Modelagem Não Supervisionada - Clusterização"
   ]
  },
  {
   "cell_type": "code",
   "execution_count": null,
   "id": "0fce18f9",
   "metadata": {},
   "outputs": [],
   "source": [
    "\n",
    "kmeans = KMeans(n_clusters=3, random_state=42)\n",
    "clusters = kmeans.fit_predict(X)\n",
    "\n",
    "plt.scatter(X[:, 0], X[:, 1], c=clusters, cmap='viridis')\n",
    "plt.title('Clusterização das Casas')\n",
    "plt.xlabel(top_features[0])\n",
    "plt.ylabel(top_features[1])\n",
    "plt.show()\n"
   ]
  },
  {
   "cell_type": "markdown",
   "id": "42274688",
   "metadata": {},
   "source": [
    "## Redução de Dimensionalidade"
   ]
  },
  {
   "cell_type": "code",
   "execution_count": null,
   "id": "88074717",
   "metadata": {},
   "outputs": [],
   "source": [
    "\n",
    "pca = PCA(n_components=2)\n",
    "X_pca = pca.fit_transform(X)\n",
    "\n",
    "plt.scatter(X_pca[:,0], X_pca[:,1], c=clusters, cmap='rainbow')\n",
    "plt.title('PCA - Redução de Dimensionalidade')\n",
    "plt.show()\n"
   ]
  },
  {
   "cell_type": "markdown",
   "id": "79983288",
   "metadata": {},
   "source": [
    "## Análise de Outliers"
   ]
  },
  {
   "cell_type": "code",
   "execution_count": null,
   "id": "04857f57",
   "metadata": {},
   "outputs": [],
   "source": [
    "\n",
    "lof = LocalOutlierFactor(n_neighbors=20)\n",
    "outlier_flags = lof.fit_predict(X)\n",
    "\n",
    "plt.scatter(X_pca[:,0], X_pca[:,1], c=outlier_flags, cmap='coolwarm')\n",
    "plt.title('Outlier Detection com LOF')\n",
    "plt.show()\n"
   ]
  },
  {
   "cell_type": "markdown",
   "id": "df0608e4",
   "metadata": {},
   "source": [
    "## Conclusão"
   ]
  },
  {
   "cell_type": "code",
   "execution_count": null,
   "id": "34cb82b8",
   "metadata": {},
   "outputs": [],
   "source": [
    "\n",
    "# O trabalho mostrou que é possível prever os preços com Regressão Linear (R2 e RMSE)\n",
    "# e classificar preços como 'Alto' ou 'Baixo' usando Random Forest com boa acurácia.\n",
    "# Além disso, a clusterização revelou grupos semelhantes e a análise de outliers identificou pontos fora do padrão.\n"
   ]
  }
 ],
 "metadata": {
  "language_info": {
   "name": "python"
  }
 },
 "nbformat": 4,
 "nbformat_minor": 5
}
